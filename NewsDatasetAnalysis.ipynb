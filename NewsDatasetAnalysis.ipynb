{
 "cells": [
  {
   "cell_type": "code",
   "execution_count": 1,
   "metadata": {},
   "outputs": [],
   "source": [
    "import pandas as pd\n",
    "from matplotlib import pyplot"
   ]
  },
  {
   "cell_type": "code",
   "execution_count": 2,
   "metadata": {},
   "outputs": [],
   "source": [
    "df1 = pd.read_excel('outputcompleteWork.xlsx')\n"
   ]
  },
  {
   "cell_type": "code",
   "execution_count": 3,
   "metadata": {},
   "outputs": [
    {
     "name": "stdout",
     "output_type": "stream",
     "text": [
      "Total # of News Documents: 74708\n",
      "                                          title            articleBody  \\\n",
      "count                                     74708                  64016   \n",
      "unique                                    73155                  62362   \n",
      "top     EUR/USD: Daily recommendations on major  read more on fxstreet   \n",
      "freq                                         47                    218   \n",
      "\n",
      "       keywords                url                      pubDate  \\\n",
      "count     72926              73235                        74708   \n",
      "unique    17513              70616                        69830   \n",
      "top     EURUSD,  ,FXStreet Team,,\"  Thu, 04 Jun 2020 11:03:46 Z   \n",
      "freq        942                145                           38   \n",
      "\n",
      "               author        pair  \\\n",
      "count           74682       11841   \n",
      "unique            585        1234   \n",
      "top     FXStreet Team  ,,852b9932   \n",
      "freq            12920        1400   \n",
      "\n",
      "                                               summary  \n",
      "count                                            24243  \n",
      "unique                                           21591  \n",
      "top     ,,852b9932-1ccb-4a23-bb49-3e6772db28bc,,false,  \n",
      "freq                                               172  \n"
     ]
    }
   ],
   "source": [
    "print('Total # of News Documents: '+str(len(df1)))\n",
    "print(df1.describe())"
   ]
  },
  {
   "cell_type": "code",
   "execution_count": 4,
   "metadata": {},
   "outputs": [
    {
     "name": "stdout",
     "output_type": "stream",
     "text": [
      "                                          title            articleBody  \\\n",
      "count                                     70617                  60031   \n",
      "unique                                    69856                  59189   \n",
      "top     EUR/USD: Daily recommendations on major  read more on fxstreet   \n",
      "freq                                         45                    215   \n",
      "\n",
      "       keywords                                                url  \\\n",
      "count     68868                                              70616   \n",
      "unique    16652                                              70616   \n",
      "top     EURUSD,  https://www.fxstreet.com/news/usd-cad-recovers...   \n",
      "freq        912                                                  1   \n",
      "\n",
      "                            pubDate         author        pair  \\\n",
      "count                         70617          70591       11586   \n",
      "unique                        69205            542        1221   \n",
      "top     Wed, 29 Apr 2020 03:52:46 Z  FXStreet Team  ,,852b9932   \n",
      "freq                             23          12764        1400   \n",
      "\n",
      "                                               summary  \n",
      "count                                            22000  \n",
      "unique                                           21541  \n",
      "top     ,,852b9932-1ccb-4a23-bb49-3e6772db28bc,,false,  \n",
      "freq                                               172  \n"
     ]
    }
   ],
   "source": [
    "df= df1.drop_duplicates(subset = [\"url\"])\n",
    "print(df.describe())"
   ]
  },
  {
   "cell_type": "code",
   "execution_count": 4,
   "metadata": {},
   "outputs": [],
   "source": [
    "text= ''\n",
    "for w in df['url'].values:\n",
    "    text = text + str(w)+'\\n' \n",
    "f = open('url.txt','w')\n",
    "f.write(text)\n",
    "f.close()"
   ]
  },
  {
   "cell_type": "code",
   "execution_count": 5,
   "metadata": {},
   "outputs": [
    {
     "name": "stdout",
     "output_type": "stream",
     "text": [
      "                                               title  \\\n",
      "0  EUR/USD pulls back on Friday, still heads for ...   \n",
      "1  USD/JPY Technical Analysis: Quietly moving up ...   \n",
      "2  AUD/USD stays in the negative territory near 0...   \n",
      "3  German FinMin Scholz: Turkey didn&#8217;t seek...   \n",
      "4  EU's Tusk: We studied the Chequers proposals i...   \n",
      "\n",
      "                                         articleBody  \\\n",
      "0  US dollar recovers ground as Euro gets hits by...   \n",
      "1  USD/JPY bulls are extending the bull trend by ...   \n",
      "2  USD recovery in the NA session weighs on AUD/U...   \n",
      "3  Speaking to reporters after his meeting with T...   \n",
      "4  Below are the key quotes from the European Cou...   \n",
      "\n",
      "                          keywords  \\\n",
      "0                          EURUSD,   \n",
      "1       Technical Analysis,USDJPY,   \n",
      "2       Technical Analysis,AUDUSD,   \n",
      "3  Turkey,EmergingMarkets,Germany,   \n",
      "4                 Brexit,Politics,   \n",
      "\n",
      "                                                 url               pubDate  \\\n",
      "0  https://www.fxstreet.com/news/eur-usd-pulls-ba...  2018-09-21T16:34:04Z   \n",
      "1  https://www.fxstreet.com/news/usd-jpy-technica...  2018-09-21T16:36:27Z   \n",
      "2  https://www.fxstreet.com/news/aud-usd-stays-in...  2018-09-21T16:37:21Z   \n",
      "3  https://www.fxstreet.com/news/german-finmin-sc...  2018-09-21T16:40:25Z   \n",
      "4  https://www.fxstreet.com/news/eus-tusk-we-stud...  2018-09-21T17:08:20Z   \n",
      "\n",
      "               author pair summary  \n",
      "0  Mat&#237;as Salord  NaN     NaN  \n",
      "1        Flavio Tosti  NaN     NaN  \n",
      "2       Eren Sengezer  NaN     NaN  \n",
      "3       Eren Sengezer  NaN     NaN  \n",
      "4       Eren Sengezer  NaN     NaN  \n"
     ]
    }
   ],
   "source": [
    "print(df.head())\n"
   ]
  },
  {
   "cell_type": "code",
   "execution_count": 6,
   "metadata": {},
   "outputs": [
    {
     "name": "stderr",
     "output_type": "stream",
     "text": [
      "C:\\Users\\Novin\\anaconda3\\lib\\site-packages\\ipykernel_launcher.py:1: SettingWithCopyWarning: \n",
      "A value is trying to be set on a copy of a slice from a DataFrame.\n",
      "Try using .loc[row_indexer,col_indexer] = value instead\n",
      "\n",
      "See the caveats in the documentation: https://pandas.pydata.org/pandas-docs/stable/user_guide/indexing.html#returning-a-view-versus-a-copy\n",
      "  \"\"\"Entry point for launching an IPython kernel.\n"
     ]
    }
   ],
   "source": [
    "df['timestamp'] = pd.to_datetime(df['pubDate'])"
   ]
  },
  {
   "cell_type": "code",
   "execution_count": 7,
   "metadata": {},
   "outputs": [
    {
     "name": "stderr",
     "output_type": "stream",
     "text": [
      "C:\\Users\\Novin\\anaconda3\\lib\\site-packages\\ipykernel_launcher.py:4: SettingWithCopyWarning: \n",
      "A value is trying to be set on a copy of a slice from a DataFrame.\n",
      "Try using .loc[row_indexer,col_indexer] = value instead\n",
      "\n",
      "See the caveats in the documentation: https://pandas.pydata.org/pandas-docs/stable/user_guide/indexing.html#returning-a-view-versus-a-copy\n",
      "  after removing the cwd from sys.path.\n",
      "C:\\Users\\Novin\\anaconda3\\lib\\site-packages\\ipykernel_launcher.py:5: SettingWithCopyWarning: \n",
      "A value is trying to be set on a copy of a slice from a DataFrame.\n",
      "Try using .loc[row_indexer,col_indexer] = value instead\n",
      "\n",
      "See the caveats in the documentation: https://pandas.pydata.org/pandas-docs/stable/user_guide/indexing.html#returning-a-view-versus-a-copy\n",
      "  \"\"\"\n"
     ]
    },
    {
     "data": {
      "text/html": [
       "<div>\n",
       "<style scoped>\n",
       "    .dataframe tbody tr th:only-of-type {\n",
       "        vertical-align: middle;\n",
       "    }\n",
       "\n",
       "    .dataframe tbody tr th {\n",
       "        vertical-align: top;\n",
       "    }\n",
       "\n",
       "    .dataframe thead th {\n",
       "        text-align: right;\n",
       "    }\n",
       "</style>\n",
       "<table border=\"1\" class=\"dataframe\">\n",
       "  <thead>\n",
       "    <tr style=\"text-align: right;\">\n",
       "      <th></th>\n",
       "      <th>title</th>\n",
       "      <th>articleBody</th>\n",
       "      <th>keywords</th>\n",
       "      <th>url</th>\n",
       "      <th>pubDate</th>\n",
       "      <th>author</th>\n",
       "      <th>pair</th>\n",
       "      <th>summary</th>\n",
       "      <th>timestamp</th>\n",
       "      <th>time</th>\n",
       "    </tr>\n",
       "    <tr>\n",
       "      <th>date</th>\n",
       "      <th></th>\n",
       "      <th></th>\n",
       "      <th></th>\n",
       "      <th></th>\n",
       "      <th></th>\n",
       "      <th></th>\n",
       "      <th></th>\n",
       "      <th></th>\n",
       "      <th></th>\n",
       "      <th></th>\n",
       "    </tr>\n",
       "  </thead>\n",
       "  <tbody>\n",
       "    <tr>\n",
       "      <th>2018-09-21</th>\n",
       "      <td>EUR/USD pulls back on Friday, still heads for ...</td>\n",
       "      <td>US dollar recovers ground as Euro gets hits by...</td>\n",
       "      <td>EURUSD,</td>\n",
       "      <td>https://www.fxstreet.com/news/eur-usd-pulls-ba...</td>\n",
       "      <td>2018-09-21T16:34:04Z</td>\n",
       "      <td>Mat&amp;#237;as Salord</td>\n",
       "      <td>NaN</td>\n",
       "      <td>NaN</td>\n",
       "      <td>2018-09-21 16:34:04+00:00</td>\n",
       "      <td>16:34:04</td>\n",
       "    </tr>\n",
       "    <tr>\n",
       "      <th>2018-09-21</th>\n",
       "      <td>USD/JPY Technical Analysis: Quietly moving up ...</td>\n",
       "      <td>USD/JPY bulls are extending the bull trend by ...</td>\n",
       "      <td>Technical Analysis,USDJPY,</td>\n",
       "      <td>https://www.fxstreet.com/news/usd-jpy-technica...</td>\n",
       "      <td>2018-09-21T16:36:27Z</td>\n",
       "      <td>Flavio Tosti</td>\n",
       "      <td>NaN</td>\n",
       "      <td>NaN</td>\n",
       "      <td>2018-09-21 16:36:27+00:00</td>\n",
       "      <td>16:36:27</td>\n",
       "    </tr>\n",
       "    <tr>\n",
       "      <th>2018-09-21</th>\n",
       "      <td>AUD/USD stays in the negative territory near 0...</td>\n",
       "      <td>USD recovery in the NA session weighs on AUD/U...</td>\n",
       "      <td>Technical Analysis,AUDUSD,</td>\n",
       "      <td>https://www.fxstreet.com/news/aud-usd-stays-in...</td>\n",
       "      <td>2018-09-21T16:37:21Z</td>\n",
       "      <td>Eren Sengezer</td>\n",
       "      <td>NaN</td>\n",
       "      <td>NaN</td>\n",
       "      <td>2018-09-21 16:37:21+00:00</td>\n",
       "      <td>16:37:21</td>\n",
       "    </tr>\n",
       "    <tr>\n",
       "      <th>2018-09-21</th>\n",
       "      <td>German FinMin Scholz: Turkey didn&amp;#8217;t seek...</td>\n",
       "      <td>Speaking to reporters after his meeting with T...</td>\n",
       "      <td>Turkey,EmergingMarkets,Germany,</td>\n",
       "      <td>https://www.fxstreet.com/news/german-finmin-sc...</td>\n",
       "      <td>2018-09-21T16:40:25Z</td>\n",
       "      <td>Eren Sengezer</td>\n",
       "      <td>NaN</td>\n",
       "      <td>NaN</td>\n",
       "      <td>2018-09-21 16:40:25+00:00</td>\n",
       "      <td>16:40:25</td>\n",
       "    </tr>\n",
       "    <tr>\n",
       "      <th>2018-09-21</th>\n",
       "      <td>EU's Tusk: We studied the Chequers proposals i...</td>\n",
       "      <td>Below are the key quotes from the European Cou...</td>\n",
       "      <td>Brexit,Politics,</td>\n",
       "      <td>https://www.fxstreet.com/news/eus-tusk-we-stud...</td>\n",
       "      <td>2018-09-21T17:08:20Z</td>\n",
       "      <td>Eren Sengezer</td>\n",
       "      <td>NaN</td>\n",
       "      <td>NaN</td>\n",
       "      <td>2018-09-21 17:08:20+00:00</td>\n",
       "      <td>17:08:20</td>\n",
       "    </tr>\n",
       "    <tr>\n",
       "      <th>...</th>\n",
       "      <td>...</td>\n",
       "      <td>...</td>\n",
       "      <td>...</td>\n",
       "      <td>...</td>\n",
       "      <td>...</td>\n",
       "      <td>...</td>\n",
       "      <td>...</td>\n",
       "      <td>...</td>\n",
       "      <td>...</td>\n",
       "      <td>...</td>\n",
       "    </tr>\n",
       "    <tr>\n",
       "      <th>2020-11-11</th>\n",
       "      <td>NZD/USD seen above 0.70 by year-end &amp;#8211; We...</td>\n",
       "      <td>The New Zealand dollar is going through an imp...</td>\n",
       "      <td>NZDUSD,Currencies,Banks,</td>\n",
       "      <td>https://www.fxstreet.com/news/nzd-usd-seen-abo...</td>\n",
       "      <td>Wed, 11 Nov 2020 20:56:41 Z</td>\n",
       "      <td>Guillermo Alcala</td>\n",
       "      <td>NaN</td>\n",
       "      <td>NaN</td>\n",
       "      <td>2020-11-11 20:56:41+00:00</td>\n",
       "      <td>20:56:41</td>\n",
       "    </tr>\n",
       "    <tr>\n",
       "      <th>2020-11-12</th>\n",
       "      <td>Cryptocurrencies Price Prediction: Bitcoin, Ch...</td>\n",
       "      <td>Bitcoin price touches $16,000 but gets rejecte...</td>\n",
       "      <td>Bitcoin,Chainlink,SynthetixNetworkToken,Crypto...</td>\n",
       "      <td>https://www.fxstreet.com/cryptocurrencies/news...</td>\n",
       "      <td>Thu, 12 Nov 2020 03:07:05 Z</td>\n",
       "      <td>FXStreet Team</td>\n",
       "      <td>NaN</td>\n",
       "      <td>NaN</td>\n",
       "      <td>2020-11-12 03:07:05+00:00</td>\n",
       "      <td>03:07:05</td>\n",
       "    </tr>\n",
       "    <tr>\n",
       "      <th>2020-11-11</th>\n",
       "      <td>Synthetix Network Price Analysis: SNX drops af...</td>\n",
       "      <td>Synthetix forms the bearish engulfing pattern ...</td>\n",
       "      <td>SynthetixNetworkToken,CryptoCurrencies,Technic...</td>\n",
       "      <td>https://www.fxstreet.com/cryptocurrencies/news...</td>\n",
       "      <td>Wed, 11 Nov 2020 23:39:42 Z</td>\n",
       "      <td>Rajarshi Mitra</td>\n",
       "      <td>NaN</td>\n",
       "      <td>NaN</td>\n",
       "      <td>2020-11-11 23:39:42+00:00</td>\n",
       "      <td>23:39:42</td>\n",
       "    </tr>\n",
       "    <tr>\n",
       "      <th>2020-11-12</th>\n",
       "      <td>Cardano Price Forecast: ADA consolidation to p...</td>\n",
       "      <td>Cardano plans to hold in consolidation ahead o...</td>\n",
       "      <td>Cardano,Technical Analysis,CryptoCurrencies,</td>\n",
       "      <td>https://www.fxstreet.com/cryptocurrencies/news...</td>\n",
       "      <td>Thu, 12 Nov 2020 03:59:38 Z</td>\n",
       "      <td>John Isige</td>\n",
       "      <td>NaN</td>\n",
       "      <td>Cardano is changing hands at $0.1058 after hit...</td>\n",
       "      <td>2020-11-12 03:59:38+00:00</td>\n",
       "      <td>03:59:38</td>\n",
       "    </tr>\n",
       "    <tr>\n",
       "      <th>2020-11-12</th>\n",
       "      <td>WTI flirts with $42.00 on demand-supply news a...</td>\n",
       "      <td>WTI prints four-day winning streak after refre...</td>\n",
       "      <td>Oil,WTI,Commodities,OPEC,RiskAppetite,</td>\n",
       "      <td>https://www.fxstreet.com/news/wti-flirts-with-...</td>\n",
       "      <td>Thu, 12 Nov 2020 03:51:22 Z</td>\n",
       "      <td>Anil Panchal</td>\n",
       "      <td>NaN</td>\n",
       "      <td>WTI steps back from the intraday high while de...</td>\n",
       "      <td>2020-11-12 03:51:22+00:00</td>\n",
       "      <td>03:51:22</td>\n",
       "    </tr>\n",
       "  </tbody>\n",
       "</table>\n",
       "<p>70617 rows × 10 columns</p>\n",
       "</div>"
      ],
      "text/plain": [
       "                                                        title  \\\n",
       "date                                                            \n",
       "2018-09-21  EUR/USD pulls back on Friday, still heads for ...   \n",
       "2018-09-21  USD/JPY Technical Analysis: Quietly moving up ...   \n",
       "2018-09-21  AUD/USD stays in the negative territory near 0...   \n",
       "2018-09-21  German FinMin Scholz: Turkey didn&#8217;t seek...   \n",
       "2018-09-21  EU's Tusk: We studied the Chequers proposals i...   \n",
       "...                                                       ...   \n",
       "2020-11-11  NZD/USD seen above 0.70 by year-end &#8211; We...   \n",
       "2020-11-12  Cryptocurrencies Price Prediction: Bitcoin, Ch...   \n",
       "2020-11-11  Synthetix Network Price Analysis: SNX drops af...   \n",
       "2020-11-12  Cardano Price Forecast: ADA consolidation to p...   \n",
       "2020-11-12  WTI flirts with $42.00 on demand-supply news a...   \n",
       "\n",
       "                                                  articleBody  \\\n",
       "date                                                            \n",
       "2018-09-21  US dollar recovers ground as Euro gets hits by...   \n",
       "2018-09-21  USD/JPY bulls are extending the bull trend by ...   \n",
       "2018-09-21  USD recovery in the NA session weighs on AUD/U...   \n",
       "2018-09-21  Speaking to reporters after his meeting with T...   \n",
       "2018-09-21  Below are the key quotes from the European Cou...   \n",
       "...                                                       ...   \n",
       "2020-11-11  The New Zealand dollar is going through an imp...   \n",
       "2020-11-12  Bitcoin price touches $16,000 but gets rejecte...   \n",
       "2020-11-11  Synthetix forms the bearish engulfing pattern ...   \n",
       "2020-11-12  Cardano plans to hold in consolidation ahead o...   \n",
       "2020-11-12  WTI prints four-day winning streak after refre...   \n",
       "\n",
       "                                                     keywords  \\\n",
       "date                                                            \n",
       "2018-09-21                                            EURUSD,   \n",
       "2018-09-21                         Technical Analysis,USDJPY,   \n",
       "2018-09-21                         Technical Analysis,AUDUSD,   \n",
       "2018-09-21                    Turkey,EmergingMarkets,Germany,   \n",
       "2018-09-21                                   Brexit,Politics,   \n",
       "...                                                       ...   \n",
       "2020-11-11                           NZDUSD,Currencies,Banks,   \n",
       "2020-11-12  Bitcoin,Chainlink,SynthetixNetworkToken,Crypto...   \n",
       "2020-11-11  SynthetixNetworkToken,CryptoCurrencies,Technic...   \n",
       "2020-11-12       Cardano,Technical Analysis,CryptoCurrencies,   \n",
       "2020-11-12             Oil,WTI,Commodities,OPEC,RiskAppetite,   \n",
       "\n",
       "                                                          url  \\\n",
       "date                                                            \n",
       "2018-09-21  https://www.fxstreet.com/news/eur-usd-pulls-ba...   \n",
       "2018-09-21  https://www.fxstreet.com/news/usd-jpy-technica...   \n",
       "2018-09-21  https://www.fxstreet.com/news/aud-usd-stays-in...   \n",
       "2018-09-21  https://www.fxstreet.com/news/german-finmin-sc...   \n",
       "2018-09-21  https://www.fxstreet.com/news/eus-tusk-we-stud...   \n",
       "...                                                       ...   \n",
       "2020-11-11  https://www.fxstreet.com/news/nzd-usd-seen-abo...   \n",
       "2020-11-12  https://www.fxstreet.com/cryptocurrencies/news...   \n",
       "2020-11-11  https://www.fxstreet.com/cryptocurrencies/news...   \n",
       "2020-11-12  https://www.fxstreet.com/cryptocurrencies/news...   \n",
       "2020-11-12  https://www.fxstreet.com/news/wti-flirts-with-...   \n",
       "\n",
       "                                pubDate              author pair  \\\n",
       "date                                                               \n",
       "2018-09-21         2018-09-21T16:34:04Z  Mat&#237;as Salord  NaN   \n",
       "2018-09-21         2018-09-21T16:36:27Z        Flavio Tosti  NaN   \n",
       "2018-09-21         2018-09-21T16:37:21Z       Eren Sengezer  NaN   \n",
       "2018-09-21         2018-09-21T16:40:25Z       Eren Sengezer  NaN   \n",
       "2018-09-21         2018-09-21T17:08:20Z       Eren Sengezer  NaN   \n",
       "...                                 ...                 ...  ...   \n",
       "2020-11-11  Wed, 11 Nov 2020 20:56:41 Z    Guillermo Alcala  NaN   \n",
       "2020-11-12  Thu, 12 Nov 2020 03:07:05 Z       FXStreet Team  NaN   \n",
       "2020-11-11  Wed, 11 Nov 2020 23:39:42 Z      Rajarshi Mitra  NaN   \n",
       "2020-11-12  Thu, 12 Nov 2020 03:59:38 Z          John Isige  NaN   \n",
       "2020-11-12  Thu, 12 Nov 2020 03:51:22 Z        Anil Panchal  NaN   \n",
       "\n",
       "                                                      summary  \\\n",
       "date                                                            \n",
       "2018-09-21                                                NaN   \n",
       "2018-09-21                                                NaN   \n",
       "2018-09-21                                                NaN   \n",
       "2018-09-21                                                NaN   \n",
       "2018-09-21                                                NaN   \n",
       "...                                                       ...   \n",
       "2020-11-11                                                NaN   \n",
       "2020-11-12                                                NaN   \n",
       "2020-11-11                                                NaN   \n",
       "2020-11-12  Cardano is changing hands at $0.1058 after hit...   \n",
       "2020-11-12  WTI steps back from the intraday high while de...   \n",
       "\n",
       "                            timestamp      time  \n",
       "date                                             \n",
       "2018-09-21  2018-09-21 16:34:04+00:00  16:34:04  \n",
       "2018-09-21  2018-09-21 16:36:27+00:00  16:36:27  \n",
       "2018-09-21  2018-09-21 16:37:21+00:00  16:37:21  \n",
       "2018-09-21  2018-09-21 16:40:25+00:00  16:40:25  \n",
       "2018-09-21  2018-09-21 17:08:20+00:00  17:08:20  \n",
       "...                               ...       ...  \n",
       "2020-11-11  2020-11-11 20:56:41+00:00  20:56:41  \n",
       "2020-11-12  2020-11-12 03:07:05+00:00  03:07:05  \n",
       "2020-11-11  2020-11-11 23:39:42+00:00  23:39:42  \n",
       "2020-11-12  2020-11-12 03:59:38+00:00  03:59:38  \n",
       "2020-11-12  2020-11-12 03:51:22+00:00  03:51:22  \n",
       "\n",
       "[70617 rows x 10 columns]"
      ]
     },
     "execution_count": 7,
     "metadata": {},
     "output_type": "execute_result"
    }
   ],
   "source": [
    "from datetime import datetime\n",
    "df['date'] = [w.date() for w in df['timestamp']]\n",
    "df['time'] = [w.time() for w in df['timestamp']]\n",
    "df.set_index('date')"
   ]
  },
  {
   "cell_type": "markdown",
   "metadata": {},
   "source": [
    "## Preprocess Text\n"
   ]
  },
  {
   "cell_type": "code",
   "execution_count": 14,
   "metadata": {},
   "outputs": [
    {
     "name": "stderr",
     "output_type": "stream",
     "text": [
      "C:\\Users\\Novin\\anaconda3\\lib\\site-packages\\ipykernel_launcher.py:2: SettingWithCopyWarning: \n",
      "A value is trying to be set on a copy of a slice from a DataFrame.\n",
      "Try using .loc[row_indexer,col_indexer] = value instead\n",
      "\n",
      "See the caveats in the documentation: https://pandas.pydata.org/pandas-docs/stable/user_guide/indexing.html#returning-a-view-versus-a-copy\n",
      "  \n"
     ]
    }
   ],
   "source": [
    "import preprocess_Text4    \n",
    "df['process_title'] = list(map(preprocess_Text4.preprocess,df['title']))\n"
   ]
  },
  {
   "cell_type": "code",
   "execution_count": 15,
   "metadata": {},
   "outputs": [
    {
     "name": "stderr",
     "output_type": "stream",
     "text": [
      "C:\\Users\\Novin\\anaconda3\\lib\\site-packages\\ipykernel_launcher.py:2: SettingWithCopyWarning: \n",
      "A value is trying to be set on a copy of a slice from a DataFrame.\n",
      "Try using .loc[row_indexer,col_indexer] = value instead\n",
      "\n",
      "See the caveats in the documentation: https://pandas.pydata.org/pandas-docs/stable/user_guide/indexing.html#returning-a-view-versus-a-copy\n",
      "  \n"
     ]
    }
   ],
   "source": [
    "import preprocess_Text4\n",
    "df['process_body'] = list(map(preprocess_Text4.preprocess,df['articleBody']))"
   ]
  },
  {
   "cell_type": "markdown",
   "metadata": {},
   "source": [
    "## Corpus statics\n",
    "### keywords couny\n",
    "### length of title & articleBody before and after of preprocess"
   ]
  },
  {
   "cell_type": "code",
   "execution_count": 18,
   "metadata": {},
   "outputs": [
    {
     "name": "stdout",
     "output_type": "stream",
     "text": [
      "max Length of title is : 4076\n",
      "max Length of articleBody is : 26386\n"
     ]
    },
    {
     "name": "stderr",
     "output_type": "stream",
     "text": [
      "C:\\Users\\Novin\\anaconda3\\lib\\site-packages\\ipykernel_launcher.py:3: SettingWithCopyWarning: \n",
      "A value is trying to be set on a copy of a slice from a DataFrame.\n",
      "Try using .loc[row_indexer,col_indexer] = value instead\n",
      "\n",
      "See the caveats in the documentation: https://pandas.pydata.org/pandas-docs/stable/user_guide/indexing.html#returning-a-view-versus-a-copy\n",
      "  This is separate from the ipykernel package so we can avoid doing imports until\n",
      "C:\\Users\\Novin\\anaconda3\\lib\\site-packages\\ipykernel_launcher.py:16: SettingWithCopyWarning: \n",
      "A value is trying to be set on a copy of a slice from a DataFrame.\n",
      "Try using .loc[row_indexer,col_indexer] = value instead\n",
      "\n",
      "See the caveats in the documentation: https://pandas.pydata.org/pandas-docs/stable/user_guide/indexing.html#returning-a-view-versus-a-copy\n",
      "  app.launch_new_instance()\n"
     ]
    }
   ],
   "source": [
    "res = len(max(df['title'], key = len) )\n",
    "print('max Length of title is : ' + str(res))\n",
    "df['title_len'] =[len(w.split()) for w in df['title']]\n",
    "\n",
    "dummydf= df['articleBody']\n",
    "dummydf = dummydf.dropna()\n",
    "res = len(max(dummydf, key = len) )\n",
    "print('max Length of articleBody is : ' + str(res))\n",
    "length = []\n",
    "a = 1.4\n",
    "for w in df['articleBody']:\n",
    "    if type(w) != type(a)  :\n",
    "        length.append(len(w.split()) )\n",
    "    else :\n",
    "        length.append(0)\n",
    "df['body_len']  = length\n",
    "                      "
   ]
  },
  {
   "cell_type": "code",
   "execution_count": 16,
   "metadata": {},
   "outputs": [
    {
     "name": "stdout",
     "output_type": "stream",
     "text": [
      "63366\n",
      "6447638\n"
     ]
    }
   ],
   "source": [
    "keywords = set()\n",
    "wordCount = 0\n",
    "for w in df['process_body']:\n",
    "    temp = set(w)\n",
    "    for ele in temp:\n",
    "        keywords.add(ele)\n",
    "        wordCount+=1 \n",
    "for w in df['process_title']:\n",
    "    temp = set(w)\n",
    "    for ele in temp:\n",
    "        keywords.add(ele)\n",
    "        wordCount+=1\n",
    "print(len(keywords))\n",
    "print(wordCount)\n",
    "file = open('keywords.txt','w')\n",
    "file.write(str(keywords))\n",
    "file.close()"
   ]
  },
  {
   "cell_type": "code",
   "execution_count": 36,
   "metadata": {},
   "outputs": [],
   "source": [
    "\n",
    "df.to_excel('preprocessed version.xlsx')"
   ]
  },
  {
   "cell_type": "code",
   "execution_count": 31,
   "metadata": {},
   "outputs": [
    {
     "name": "stdout",
     "output_type": "stream",
     "text": [
      "          title_len      body_len  len_processTitle  len_processBody\n",
      "count  70617.000000  70617.000000      70617.000000     70617.000000\n",
      "mean      10.962247    193.240296          8.381410       120.561380\n",
      "std        5.365144    197.183003          3.686277       119.383073\n",
      "min        1.000000      0.000000          1.000000         0.000000\n",
      "25%        9.000000     58.000000          7.000000        37.000000\n",
      "50%       11.000000    158.000000          8.000000       100.000000\n",
      "75%       13.000000    279.000000         10.000000       176.000000\n",
      "max      649.000000   4361.000000        383.000000      2339.000000\n"
     ]
    }
   ],
   "source": [
    "df['len_processTitle'] = [len(w) for w in df['process_title']]\n",
    "df['len_processBody'] = [len(w) for w in df['process_body']]\n",
    "print(df.describe())"
   ]
  },
  {
   "cell_type": "markdown",
   "metadata": {},
   "source": [
    "## plot corpus statics"
   ]
  },
  {
   "cell_type": "code",
   "execution_count": 52,
   "metadata": {},
   "outputs": [
    {
     "data": {
      "image/png": "[encoded data removed]",
      "text/plain": [
       "<Figure size 432x288 with 1 Axes>"
      ]
     },
     "metadata": {
      "needs_background": "light"
     },
     "output_type": "display_data"
    }
   ],
   "source": [
    "from matplotlib import pyplot as plt\n",
    "plt.hist(df['len_processTitle'], bins=range(1,20, 1), \n",
    "              alpha=0.5, color=\"blue\")\n",
    "labels = ['Length of news title']\n",
    "plt.xlabel(\"length of title\")\n",
    "plt.ylabel(\"proportion\")\n",
    "plt.legend(labels)\n",
    "plt.title(\"Distribution graoh of number of words in title of news\")\n",
    "plt.savefig('title words distribution.jpg')"
   ]
  },
  {
   "cell_type": "code",
   "execution_count": 54,
   "metadata": {},
   "outputs": [
    {
     "data": {
      "image/png": "[encoded data removed]",
      "text/plain": [
       "<Figure size 432x288 with 1 Axes>"
      ]
     },
     "metadata": {
      "needs_background": "light"
     },
     "output_type": "display_data"
    }
   ],
   "source": [
    "from matplotlib import pyplot as plt\n",
    "plt.hist(df['len_processBody'], bins=range(1,1000, 1), \n",
    "              alpha=0.5, color=\"blue\")\n",
    "labels = ['Length of news body']\n",
    "plt.xlabel(\"Number of words in article body of news\")\n",
    "plt.ylabel(\"proportion\")\n",
    "plt.legend(labels)\n",
    "plt.title(\"Distribution graoh of number of words in articlebody of news\")\n",
    "plt.savefig('articleBody words distribution.jpg')"
   ]
  },
  {
   "cell_type": "code",
   "execution_count": 108,
   "metadata": {},
   "outputs": [],
   "source": [
    "from datetime import datetime \n",
    "df = df.set_index('date')\n",
    "df['month'] =  [datetime.strftime(w,'%B') for w in df.index]\n",
    "df['hour'] =   [datetime.strftime(w,'%H') for w in df['timestamp']]\n",
    "df['day'] =    [datetime.strftime(w,'%A') for w in df.index]\n",
    "df = df.reset_index()"
   ]
  },
  {
   "cell_type": "code",
   "execution_count": 140,
   "metadata": {},
   "outputs": [
    {
     "data": {
      "image/png": "[encoded data removed]",
      "text/plain": [
       "<Figure size 432x288 with 1 Axes>"
      ]
     },
     "metadata": {
      "needs_background": "light"
     },
     "output_type": "display_data"
    }
   ],
   "source": [
    "from datetime import datetime \n",
    "df = df.set_index('date')\n",
    "df['year'] =    [datetime.strftime(w,'%Y') for w in df.index]\n",
    "df = df.reset_index()\n",
    "ax =df.groupby('year').size().plot( kind='bar' )\n",
    "plt.figtext(.5,.9,'Distribution Graph  of News Release versus year',fontsize=14,ha='center')\n",
    "ax.set_xlabel('Totlal number of news per year',fontsize = 12)\n",
    "ax.set_ylabel('Number', fontsize =12)\n",
    "plt.savefig('news per year.jpg', format='jpg')"
   ]
  },
  {
   "cell_type": "code",
   "execution_count": 123,
   "metadata": {},
   "outputs": [
    {
     "data": {
      "image/png": "[encoded data removed]",
      "text/plain": [
       "<Figure size 432x288 with 1 Axes>"
      ]
     },
     "metadata": {
      "needs_background": "light"
     },
     "output_type": "display_data"
    }
   ],
   "source": [
    "ax =df.groupby('month').size().sort_values().plot( kind='bar' )\n",
    "plt.figtext(.5,.9,'Distribution Graph  of News Release versus month',fontsize=14,ha='center')\n",
    "ax.set_xlabel('Totlal number of news per month',fontsize = 12)\n",
    "ax.set_ylabel('Number', fontsize =12)\n",
    "plt.savefig('news per month.jpg', format='jpg')"
   ]
  },
  {
   "cell_type": "code",
   "execution_count": 119,
   "metadata": {},
   "outputs": [
    {
     "data": {
      "image/png": "[encoded data removed]",
      "text/plain": [
       "<Figure size 432x288 with 1 Axes>"
      ]
     },
     "metadata": {
      "needs_background": "light"
     },
     "output_type": "display_data"
    }
   ],
   "source": [
    "days = ['Saturday' ,'Sunday', 'Monday', 'Tuesday', 'Wednesday', 'Thursday', 'Friday']\n",
    "ax =df.groupby('day').size().sort_values().plot( kind='bar' )\n",
    "plt.figtext(.5,.9,'Distribution Graph  of News Release versus day',fontsize=14,ha='center')\n",
    "ax.set_xticklabels(days)\n",
    "ax.set_xlabel('Totlal number of news per day',fontsize = 12)\n",
    "ax.set_ylabel('Number', fontsize =12)\n",
    "plt.savefig('news per day.jpg', format='jpg')"
   ]
  },
  {
   "cell_type": "code",
   "execution_count": 125,
   "metadata": {},
   "outputs": [
    {
     "data": {
      "image/png": "[encoded data removed]",
      "text/plain": [
       "<Figure size 432x288 with 1 Axes>"
      ]
     },
     "metadata": {
      "needs_background": "light"
     },
     "output_type": "display_data"
    }
   ],
   "source": [
    "ax =df.groupby('hour').size().plot( kind='bar' )\n",
    "plt.figtext(.5,.9,'Distribution Graph  of News Release versus hour',fontsize=14,ha='center')\n",
    "ax.set_xlabel('Totlal number of news per hour',fontsize = 12)\n",
    "ax.set_ylabel('Number', fontsize =12)\n",
    "plt.savefig('news per hour.jpg', format='jpg')"
   ]
  },
  {
   "cell_type": "code",
   "execution_count": 130,
   "metadata": {},
   "outputs": [],
   "source": [
    "#df = df.drop('body_len',1)\n",
    "#df = df.drop('title_len',1)\n",
    "#df = df.drop('index',1)\n",
    "#df = df.drop('len_processBody',1)\n",
    "#df = df.drop('len_processTitle',1)\n",
    "#df = df.drop('level_0',1)\n",
    "#df = df.drop('Day_id',1)"
   ]
  },
  {
   "cell_type": "code",
   "execution_count": 131,
   "metadata": {},
   "outputs": [],
   "source": [
    "import exportSubNews\n",
    "EURUSD_data = exportSubNews.exportNews('EURUSD',['EURUSD'],df)\n",
    "GBPUSD_data = exportSubNews.exportNews('GBPUSD',['GBPUSD'],df)\n",
    "USDJPY_data = exportSubNews.exportNews('USDJPY',['USDJPY'],df)\n",
    "USDCHF_data = exportSubNews.exportNews('USDCHF',['USDCHF'],df)"
   ]
  }
 ],
 "metadata": {
  "kernelspec": {
   "display_name": "Python 3",
   "language": "python",
   "name": "python3"
  },
  "language_info": {
   "codemirror_mode": {
    "name": "ipython",
    "version": 3
   },
   "file_extension": ".py",
   "mimetype": "text/x-python",
   "name": "python",
   "nbconvert_exporter": "python",
   "pygments_lexer": "ipython3",
   "version": "3.7.6"
  }
 },
 "nbformat": 4,
 "nbformat_minor": 4
}
