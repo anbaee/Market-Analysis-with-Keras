{
 "cells": [
  {
   "cell_type": "code",
   "execution_count": 5,
   "metadata": {},
   "outputs": [],
   "source": [
    "import tensorflow as tf\n",
    "import pandas as pd\n",
    "from collections import deque\n",
    "import random\n",
    "import numpy as np\n",
    "from sklearn import preprocessing\n",
    "from tensorflow.keras.models import Sequential\n",
    "from tensorflow.keras.layers import Dense, Dropout, LSTM, LSTM, BatchNormalization"
   ]
  },
  {
   "cell_type": "code",
   "execution_count": 6,
   "metadata": {},
   "outputs": [],
   "source": [
    "\n",
    "def normalization(df):\n",
    "    df = df.drop(\"future\", 1)  # don't need this anymore.\n",
    "    df = df.drop(\"High\", 1)  # don't need this anymore.\n",
    "    df = df.drop(\"Low\", 1)  # don't need this anymore.\n",
    "    df = df.drop(\"Open\", 1)  # don't need this anymore.\n",
    "    \n",
    "    for col in df.columns:  # go through all of the columns\n",
    "        if col != \"target\":  # normalize all ... except for the target itself!\n",
    "            df[col] =[float(e) for e in df[col]]\n",
    "            df[col] = df[col].pct_change()  # pct changefor  \"normalizes\"\n",
    "            df.dropna(inplace=True)  # remove the nas created by pct_change\n",
    "            df[col] = preprocessing.scale(df[col].values)  # scale between 0 and 1.\n",
    "    \n",
    "    df.dropna(inplace=True)  # cleanup again... jic.\n",
    "    return df"
   ]
  },
  {
   "cell_type": "code",
   "execution_count": 7,
   "metadata": {},
   "outputs": [],
   "source": [
    "\n",
    "\n",
    "def preprocess_df(df):\n",
    "    \n",
    "    df = normalization(df)\n",
    "    sequential_data = []  # this is a list that will CONTAIN the sequences\n",
    "    \n",
    "    # These will be our actual sequences. \n",
    "    #they are made with deque, which keeps\n",
    "    #the maximum length by popping out older \n",
    "    #values as new ones come in\n",
    "    prev_days = deque(maxlen=SEQ_LEN)  \n",
    "\n",
    "    for i in df.values:  # iterate over the values\n",
    "    \n",
    "        prev_days.append([n for n in i[:-1]])  # store all but the target\n",
    "        if len(prev_days) == SEQ_LEN:  # make sure we have 10 sequences!\n",
    "            sequential_data.append([np.array(prev_days), i[-1]])  # i[-1] is the sequence target\n",
    "\n",
    "    \n",
    "    random.shuffle(sequential_data)  # shuffle for good measure.\n",
    "    \n",
    "\n",
    "    buys = []  # list that will store our buy sequences and targets\n",
    "    sells = []  # list that will store our sell sequences and targets\n",
    "\n",
    "    for seq, target in sequential_data:  # iterate over the sequential data\n",
    "        if target == 0:  # if it's a \"not buy\"\n",
    "            sells.append([seq, target])  # append to sells list\n",
    "        elif target == 1:  # otherwise if the target is a 1...\n",
    "            buys.append([seq, target])  # it's a buy!\n",
    "\n",
    "    random.shuffle(buys)  # shuffle the buys\n",
    "    random.shuffle(sells)  # shuffle the sells!\n",
    "\n",
    "    lower = min(len(buys), len(sells))  # what's the shorter length?\n",
    "    \n",
    "    # for blancing dataset\n",
    "    buys = buys[:lower]  # make sure both lists are only up to the shortest length.\n",
    "    sells = sells[:lower]  # make sure both lists are only up to the shortest length.\n",
    "\n",
    "    sequential_data = buys+sells  # add them together\n",
    "    random.shuffle(sequential_data)  # another shuffle, so the model doesn't get confused with all 1 class then the other.\n",
    "\n",
    "    X = []\n",
    "    y = []\n",
    "\n",
    "    for seq, target in sequential_data:  # going over our new sequential data\n",
    "        X.append(seq)  # X is the sequences\n",
    "        y.append(target)  # y is the targets/labels (buys vs sell/notbuy)\n",
    "\n",
    "\n",
    "    \n",
    "    return np.array(X), y  # return X and y...and make X a numpy array!"
   ]
  },
  {
   "cell_type": "code",
   "execution_count": 8,
   "metadata": {},
   "outputs": [],
   "source": [
    "\n",
    "SEQ_LEN = 8 # how long of a preceeding sequence to collect for RNN\n",
    "FUTURE_PERIOD_PREDICT = 1 # how far into the future are we trying to predict?\n",
    "RATIO_TO_PREDICT = \"BTC-USD\"\n",
    "EPOCHS = 20  # how many passes through our data\n",
    "BATCH_SIZE = 64  # how many batches? Try smaller batch if you're getting OOM (out of memory) errors.\n",
    "\n"
   ]
  },
  {
   "cell_type": "code",
   "execution_count": 9,
   "metadata": {},
   "outputs": [],
   "source": [
    "def classify(current, future):\n",
    "    if float(future) > float(current):  # if the future price is higher than the current, that's a buy, or a 1\n",
    "        return 1\n",
    "    else:  # otherwise... it's a 0!\n",
    "        return 0"
   ]
  },
  {
   "cell_type": "code",
   "execution_count": 10,
   "metadata": {},
   "outputs": [
    {
     "name": "stdout",
     "output_type": "stream",
     "text": [
      "                    Open          High           Low         Close  \\\n",
      "timestamp                                                            \n",
      "2019-08-31   9597.539063   9673.220703   9531.799805   9630.664063   \n",
      "2019-09-01   9630.592773   9796.755859   9582.944336   9757.970703   \n",
      "2019-09-02   9757.473633  10396.591797   9730.650391  10346.760742   \n",
      "2019-09-03  10345.725586  10736.104492  10308.547852  10623.540039   \n",
      "2019-09-04  10621.180664  10762.644531  10434.709961  10594.493164   \n",
      "\n",
      "               Adj Close       Volume        future  target  \n",
      "timestamp                                                    \n",
      "2019-08-31   9630.664063  11454806419   9757.970703       1  \n",
      "2019-09-01   9757.970703  11445355859  10346.760742       1  \n",
      "2019-09-02  10346.760742  17248102293  10623.540039       1  \n",
      "2019-09-03  10623.540039  19384917988  10594.493164       0  \n",
      "2019-09-04  10594.493164  16742664768  10575.533203       0  \n",
      "               Open          High           Low         Close     Adj Close  \\\n",
      "count    294.000000    294.000000    294.000000    294.000000    294.000000   \n",
      "mean    8438.538779   8602.269744   8264.934202   8437.378368   8437.378368   \n",
      "std     1234.745882   1211.192109   1253.558226   1234.707526   1234.707526   \n",
      "min     5002.578125   5331.833984   4106.980957   4970.788086   4970.788086   \n",
      "25%     7401.588257   7536.733765   7271.223633   7403.338745   7403.338745   \n",
      "50%     8598.533692   8745.209472   8384.715332   8598.169433   8598.169433   \n",
      "75%     9434.801270   9571.301514   9262.651612   9423.918701   9423.918701   \n",
      "max    10621.180664  10898.761719  10516.417969  10623.540039  10623.540039   \n",
      "\n",
      "             Volume        future      target  \n",
      "count  2.940000e+02    294.000000  294.000000  \n",
      "mean   2.927721e+10   8436.363663    0.482993  \n",
      "std    1.193265e+10   1233.845799    0.500563  \n",
      "min    1.144536e+10   4970.788086    0.000000  \n",
      "25%    1.933064e+10   7403.338745    0.000000  \n",
      "50%    2.775058e+10   8598.169433    0.000000  \n",
      "75%    3.764325e+10   9412.419434    1.000000  \n",
      "max    7.415677e+10  10623.540039    1.000000  \n"
     ]
    }
   ],
   "source": [
    "filename = 'BTC-USD.csv'\n",
    "#dataset ='/content/gdrive/My Drive/market prediction codes/' + filename\n",
    "main_df = pd.read_csv(filename )  # read in specific file\n",
    "main_df['timestamp'] = main_df['Date'] #+' '+ main_df['time']\n",
    "\n",
    "main_df['timestamp'] = pd.to_datetime(main_df['timestamp'])\n",
    "main_df = main_df.sort_values('timestamp', axis = 0  )\n",
    "main_df = main_df.set_index('timestamp')\n",
    "main_df = main_df.drop('Date' ,1)\n",
    "#main_df  = main_df.drop('time',1)\n",
    "\n",
    "\n",
    "main_df.fillna(method=\"ffill\", inplace=True)  # if there are gaps in data, use previously known values\n",
    "main_df.dropna(inplace=True)\n",
    "\n",
    "main_df['future'] = main_df['Close'].shift(-FUTURE_PERIOD_PREDICT)\n",
    "main_df['target'] = list(map(classify, main_df['Close'], main_df['future']))\n",
    "\n",
    "\n",
    "\n",
    "#test and train seprate\n",
    "dates = sorted(main_df.index.values)  # get the dates\n",
    "last_5pct = sorted(main_df.index.values)[-int(0.2*len(dates))]  # get the last 5% of the times\n",
    "\n",
    "validation_main_df = main_df[(main_df.index >= last_5pct)]  # make the validation data where the index is in the last 5%\n",
    "main_df = main_df[(main_df.index < last_5pct)]  # now the main_df is all the data up to the last 5%\n",
    "print(main_df.head())\n",
    "print(main_df.describe())"
   ]
  },
  {
   "cell_type": "code",
   "execution_count": 11,
   "metadata": {},
   "outputs": [
    {
     "name": "stdout",
     "output_type": "stream",
     "text": [
      "(276, 8, 3)\n",
      "train data: 276 validation: 56\n",
      "Dont buys: 138, buys: 138\n",
      "VALIDATION Dont buys: 28, buys: 28\n"
     ]
    }
   ],
   "source": [
    "train_x, train_y = preprocess_df(main_df)\n",
    "validation_x, validation_y = preprocess_df(validation_main_df)\n",
    "print(train_x.shape)\n",
    "print(f\"train data: {len(train_x)} validation: {len(validation_x)}\")\n",
    "print(f\"Dont buys: {train_y.count(0)}, buys: {train_y.count(1)}\")\n",
    "print(f\"VALIDATION Dont buys: {validation_y.count(0)}, buys: {validation_y.count(1)}\")\n"
   ]
  },
  {
   "cell_type": "code",
   "execution_count": 12,
   "metadata": {},
   "outputs": [],
   "source": [
    "model = Sequential()\n",
    "model.add(LSTM(128, input_shape=(train_x.shape[1:]), return_sequences=True))\n",
    "model.add(Dropout(0.2))\n",
    "model.add(BatchNormalization())  #normalizes activation outputs, same reason you want to normalize your input data.\n",
    "\n",
    "\n",
    "model.add(LSTM(128))\n",
    "model.add(Dropout(0.2))\n",
    "model.add(BatchNormalization())\n",
    "\n",
    "model.add(Dense(32, activation='relu'))\n",
    "model.add(Dropout(0.2))\n",
    "model.add(Dense(2, activation='softmax'))"
   ]
  },
  {
   "cell_type": "code",
   "execution_count": 13,
   "metadata": {},
   "outputs": [
    {
     "name": "stdout",
     "output_type": "stream",
     "text": [
      "Model: \"sequential\"\n",
      "_________________________________________________________________\n",
      "Layer (type)                 Output Shape              Param #   \n",
      "=================================================================\n",
      "lstm (LSTM)                  (None, 8, 128)            67584     \n",
      "_________________________________________________________________\n",
      "dropout (Dropout)            (None, 8, 128)            0         \n",
      "_________________________________________________________________\n",
      "batch_normalization (BatchNo (None, 8, 128)            512       \n",
      "_________________________________________________________________\n",
      "lstm_1 (LSTM)                (None, 128)               131584    \n",
      "_________________________________________________________________\n",
      "dropout_1 (Dropout)          (None, 128)               0         \n",
      "_________________________________________________________________\n",
      "batch_normalization_1 (Batch (None, 128)               512       \n",
      "_________________________________________________________________\n",
      "dense (Dense)                (None, 32)                4128      \n",
      "_________________________________________________________________\n",
      "dropout_2 (Dropout)          (None, 32)                0         \n",
      "_________________________________________________________________\n",
      "dense_1 (Dense)              (None, 2)                 66        \n",
      "=================================================================\n",
      "Total params: 204,386\n",
      "Trainable params: 203,874\n",
      "Non-trainable params: 512\n",
      "_________________________________________________________________\n"
     ]
    }
   ],
   "source": [
    "opt = tf.keras.optimizers.Adam(lr=0.001, decay=1e-6)\n",
    "\n",
    "# Compile model\n",
    "model.compile(\n",
    "    loss='sparse_categorical_crossentropy',\n",
    "    optimizer=opt,\n",
    "    metrics=['accuracy']\n",
    ")\n",
    "model.summary()\n"
   ]
  },
  {
   "cell_type": "code",
   "execution_count": 14,
   "metadata": {},
   "outputs": [
    {
     "name": "stdout",
     "output_type": "stream",
     "text": [
      "Train on 276 samples, validate on 56 samples\n",
      "Epoch 1/20\n",
      "WARNING:tensorflow:Entity <function Function._initialize_uninitialized_variables.<locals>.initialize_variables at 0x00000281674224C8> could not be transformed and will be executed as-is. Please report this to the AutoGraph team. When filing the bug, set the verbosity to 10 (on Linux, `export AUTOGRAPH_VERBOSITY=10`) and attach the full output. Cause: module 'gast' has no attribute 'Index'\n",
      "WARNING: Entity <function Function._initialize_uninitialized_variables.<locals>.initialize_variables at 0x00000281674224C8> could not be transformed and will be executed as-is. Please report this to the AutoGraph team. When filing the bug, set the verbosity to 10 (on Linux, `export AUTOGRAPH_VERBOSITY=10`) and attach the full output. Cause: module 'gast' has no attribute 'Index'\n",
      "276/276 [==============================] - 9s 32ms/sample - loss: 0.9298 - accuracy: 0.5217 - val_loss: 0.6930 - val_accuracy: 0.4643\n",
      "Epoch 2/20\n",
      "276/276 [==============================] - 0s 931us/sample - loss: 0.8155 - accuracy: 0.5435 - val_loss: 0.6927 - val_accuracy: 0.5179\n",
      "Epoch 3/20\n",
      "276/276 [==============================] - 0s 956us/sample - loss: 0.7775 - accuracy: 0.5290 - val_loss: 0.6924 - val_accuracy: 0.4821\n",
      "Epoch 4/20\n",
      "276/276 [==============================] - 0s 923us/sample - loss: 0.7198 - accuracy: 0.5580 - val_loss: 0.6917 - val_accuracy: 0.4821\n",
      "Epoch 5/20\n",
      "276/276 [==============================] - 0s 1ms/sample - loss: 0.7778 - accuracy: 0.5435 - val_loss: 0.6918 - val_accuracy: 0.5536\n",
      "Epoch 6/20\n",
      "276/276 [==============================] - 0s 985us/sample - loss: 0.7368 - accuracy: 0.5326 - val_loss: 0.6924 - val_accuracy: 0.5536\n",
      "Epoch 7/20\n",
      "276/276 [==============================] - 0s 949us/sample - loss: 0.7102 - accuracy: 0.5688 - val_loss: 0.6923 - val_accuracy: 0.5179\n",
      "Epoch 8/20\n",
      "276/276 [==============================] - 0s 967us/sample - loss: 0.6834 - accuracy: 0.6051 - val_loss: 0.6920 - val_accuracy: 0.4821\n",
      "Epoch 9/20\n",
      "276/276 [==============================] - 0s 967us/sample - loss: 0.6708 - accuracy: 0.6304 - val_loss: 0.6924 - val_accuracy: 0.4464\n",
      "Epoch 10/20\n",
      "276/276 [==============================] - 0s 1ms/sample - loss: 0.6968 - accuracy: 0.5616 - val_loss: 0.6926 - val_accuracy: 0.4464\n",
      "Epoch 11/20\n",
      "276/276 [==============================] - 0s 943us/sample - loss: 0.7017 - accuracy: 0.6087 - val_loss: 0.6925 - val_accuracy: 0.5357\n",
      "Epoch 12/20\n",
      "276/276 [==============================] - 0s 949us/sample - loss: 0.6490 - accuracy: 0.6558 - val_loss: 0.6922 - val_accuracy: 0.5357\n",
      "Epoch 13/20\n",
      "276/276 [==============================] - 0s 873us/sample - loss: 0.6679 - accuracy: 0.6196 - val_loss: 0.6920 - val_accuracy: 0.4821\n",
      "Epoch 14/20\n",
      "276/276 [==============================] - 0s 916us/sample - loss: 0.6614 - accuracy: 0.6196 - val_loss: 0.6916 - val_accuracy: 0.5179\n",
      "Epoch 15/20\n",
      "276/276 [==============================] - 0s 1ms/sample - loss: 0.6636 - accuracy: 0.6051 - val_loss: 0.6905 - val_accuracy: 0.5000\n",
      "Epoch 16/20\n",
      "276/276 [==============================] - 0s 1ms/sample - loss: 0.6926 - accuracy: 0.6087 - val_loss: 0.6897 - val_accuracy: 0.5000\n",
      "Epoch 17/20\n",
      "276/276 [==============================] - 0s 1ms/sample - loss: 0.6646 - accuracy: 0.6268 - val_loss: 0.6888 - val_accuracy: 0.5357\n",
      "Epoch 18/20\n",
      "276/276 [==============================] - 0s 1ms/sample - loss: 0.6667 - accuracy: 0.6377 - val_loss: 0.6881 - val_accuracy: 0.5357\n",
      "Epoch 19/20\n",
      "276/276 [==============================] - 0s 1ms/sample - loss: 0.6365 - accuracy: 0.6123 - val_loss: 0.6877 - val_accuracy: 0.5357\n",
      "Epoch 20/20\n",
      "276/276 [==============================] - 0s 1ms/sample - loss: 0.6268 - accuracy: 0.6558 - val_loss: 0.6868 - val_accuracy: 0.5536\n"
     ]
    }
   ],
   "source": [
    "\n",
    "history = model.fit(\n",
    "    train_x, np.array(train_y),\n",
    "    batch_size=BATCH_SIZE,\n",
    "    epochs=EPOCHS,\n",
    "    validation_data=(validation_x, np.array(validation_y)))\n"
   ]
  },
  {
   "cell_type": "code",
   "execution_count": 15,
   "metadata": {},
   "outputs": [
    {
     "name": "stdout",
     "output_type": "stream",
     "text": [
      "Test loss: 0.6868303758757455\n",
      "Test accuracy: 0.5535714\n"
     ]
    },
    {
     "data": {
      "image/png": "[encoded data removed]",
      "text/plain": [
       "<Figure size 432x288 with 1 Axes>"
      ]
     },
     "metadata": {
      "needs_background": "light"
     },
     "output_type": "display_data"
    }
   ],
   "source": [
    "score = model.evaluate(validation_x, np.array(validation_y), verbose=0)\n",
    "print('Test loss:', score[0])\n",
    "print('Test accuracy:', score[1])\n",
    "\n",
    "from matplotlib import pyplot as plt\n",
    "plt.plot(history.history['accuracy'])\n",
    "plt.plot(history.history['val_accuracy'])\n",
    "plt.title('model accuracy')\n",
    "plt.ylabel('accuracy')\n",
    "plt.xlabel('epoch')\n",
    "plt.legend(['train', 'val'], loc='upper left')\n",
    "plt.show()\n"
   ]
  },
  {
   "cell_type": "code",
   "execution_count": 16,
   "metadata": {},
   "outputs": [
    {
     "data": {
      "image/png": "[encoded data removed]",
      "text/plain": [
       "<Figure size 432x288 with 1 Axes>"
      ]
     },
     "metadata": {
      "needs_background": "light"
     },
     "output_type": "display_data"
    }
   ],
   "source": [
    "\n",
    "\n",
    "plt.plot(history.history['loss'])\n",
    "plt.plot(history.history['val_loss'])\n",
    "plt.title('model loss')\n",
    "plt.ylabel('loss')\n",
    "plt.xlabel('epoch')\n",
    "plt.legend(['train', 'val'], loc='upper left')\n",
    "plt.show()"
   ]
  }
 ],
 "metadata": {
  "kernelspec": {
   "display_name": "Python 3",
   "language": "python",
   "name": "python3"
  },
  "language_info": {
   "codemirror_mode": {
    "name": "ipython",
    "version": 3
   },
   "file_extension": ".py",
   "mimetype": "text/x-python",
   "name": "python",
   "nbconvert_exporter": "python",
   "pygments_lexer": "ipython3",
   "version": "3.7.6"
  }
 },
 "nbformat": 4,
 "nbformat_minor": 4
}
